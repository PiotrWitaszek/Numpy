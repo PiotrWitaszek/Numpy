{
 "cells": [
  {
   "cell_type": "code",
   "execution_count": 38,
   "id": "f0920b58-0058-4f05-8851-278f45dc7833",
   "metadata": {},
   "outputs": [],
   "source": [
    "import numpy as np\n",
    "import numpy_financial as npf\n",
    "import matplotlib.pyplot as plt\n"
   ]
  },
  {
   "cell_type": "code",
   "execution_count": 39,
   "id": "07158319-6dab-4650-a9e0-fad6baece6b6",
   "metadata": {},
   "outputs": [],
   "source": [
    "rate = 0.05\n",
    "nper = 5\n",
    "pmt = 0\n",
    "pv = 120000\n",
    "price = npf.fv(rate, nper, pmt, -pv)"
   ]
  },
  {
   "cell_type": "code",
   "execution_count": 40,
   "id": "0ccee555-5530-482f-af0c-e0a4cdd9c78f",
   "metadata": {},
   "outputs": [
    {
     "name": "stdout",
     "output_type": "stream",
     "text": [
      "Orientacyjna cena mieszkania za 5 lat to: 153,153.79 PLN\n"
     ]
    }
   ],
   "source": [
    "print(f'Orientacyjna cena mieszkania za 5 lat to: {price:,.2f} PLN')"
   ]
  },
  {
   "cell_type": "code",
   "execution_count": 41,
   "id": "80e8497d-a178-4857-a975-87180fdc2147",
   "metadata": {},
   "outputs": [],
   "source": [
    "rate = 0.12\n",
    "fv = price\n",
    "nper = 60\n",
    "pv = 0\n"
   ]
  },
  {
   "cell_type": "code",
   "execution_count": 42,
   "id": "9fdbb2b0",
   "metadata": {},
   "outputs": [
    {
     "name": "stdout",
     "output_type": "stream",
     "text": [
      "Każdego miesiąca trzeba wpłacać orientacyjnie 1,875.28 PLN\n"
     ]
    }
   ],
   "source": [
    "print(f'Każdego miesiąca trzeba wpłacać orientacyjnie {npf.pmt(rate/12,nper,pv,-fv):,.2f} PLN')"
   ]
  },
  {
   "cell_type": "code",
   "execution_count": 43,
   "id": "1408fed8",
   "metadata": {},
   "outputs": [],
   "source": []
  }
 ],
 "metadata": {
  "kernelspec": {
   "display_name": "Python 3.10.5 64-bit",
   "language": "python",
   "name": "python3"
  },
  "language_info": {
   "codemirror_mode": {
    "name": "ipython",
    "version": 3
   },
   "file_extension": ".py",
   "mimetype": "text/x-python",
   "name": "python",
   "nbconvert_exporter": "python",
   "pygments_lexer": "ipython3",
   "version": "3.10.5"
  },
  "vscode": {
   "interpreter": {
    "hash": "d2bc38f41b67d6fe23823cee314cc78405cebcb3e3647cb0b443852e3f56ff46"
   }
  }
 },
 "nbformat": 4,
 "nbformat_minor": 5
}
